{
 "cells": [
  {
   "cell_type": "markdown",
   "id": "4c6344fd-baae-4dd8-83e8-ed8e2775f8c6",
   "metadata": {},
   "source": [
    "<h1 style=\"color:red; font-weight:bold;\">Fetch Coding Exercise - Analytics Engineer</h1>"
   ]
  },
  {
   "cell_type": "markdown",
   "id": "b23be595-126f-40b6-b3d9-1d452409b364",
   "metadata": {},
   "source": [
    "1. Review unstructured JSON data and diagram a new structured relational data model"
   ]
  },
  {
   "cell_type": "markdown",
   "id": "26d19c43-06ae-429d-8e47-8da290095745",
   "metadata": {
    "jp-MarkdownHeadingCollapsed": true
   },
   "source": [
    "![Fetch ERD](ERD.png)"
   ]
  },
  {
   "cell_type": "markdown",
   "id": "34377799-553f-478c-8f48-f5bf418c6c98",
   "metadata": {},
   "source": [
    "2. Generate a query that answers a predetermined business question"
   ]
  },
  {
   "cell_type": "code",
   "execution_count": null,
   "id": "d91884c8-5b4f-40c6-a862-f02df2b182ff",
   "metadata": {},
   "outputs": [],
   "source": [
    "with user_filter as (select distinct user_id\n",
    "                     from users\n",
    "                     where created_date between current_date - interval '180 days' and current_date),\n",
    "     spend as (select b.name\n",
    "                    , sum(ri.item_price) as total_spend\n",
    "               from brands b\n",
    "               left join receipt_items ri on b.brand_id = ri.brand_id\n",
    "               left join receipts r on ri.receipt_id = r.receipt_id\n",
    "               inner join user_filter u on r.user_id = u.user_id\n",
    "               group by b.name),\n",
    "     transactions as (select b.name\n",
    "                           , sum(ri.item_quantity) as total_transactions\n",
    "                      from brands b\n",
    "                      left join receipt_items ri on b.brand_id = ri.brand_id\n",
    "                      left join receipts r on ri.receipt_id = r.receipt_id\n",
    "                      inner join user_filter u on r.user_id = u.user_id\n",
    "                      group by b.name)\n",
    "select \n",
    "    (select name from spend order by total_spend desc limit 1) as brand_with_most_spend,\n",
    "    (select name from transactions order by total_transactions desc limit 1) as brand_with_most_transactions;"
   ]
  },
  {
   "cell_type": "markdown",
   "id": "21b0477a-2e5f-446a-8730-7931ae6aa38e",
   "metadata": {},
   "source": [
    "3. Generate a query to capture data quality issues against the new structured relational data model"
   ]
  },
  {
   "cell_type": "code",
   "execution_count": 1,
   "id": "685f41a4-b6d5-4005-b16c-55b23afa2718",
   "metadata": {},
   "outputs": [],
   "source": [
    "import os\n",
    "import json\n",
    "import pandas as pd"
   ]
  },
  {
   "cell_type": "code",
   "execution_count": 2,
   "id": "58105fc4-ff20-499a-9fca-e4d63052a27f",
   "metadata": {
    "scrolled": true
   },
   "outputs": [],
   "source": [
    "# Define file paths\n",
    "file_paths = ['brands.json', 'receipts.json', 'users.json']\n",
    "\n",
    "# Loop through each file and load it into a DataFrame with the file name as the variable name\n",
    "for file_path in file_paths:\n",
    "    # Load the JSON data into a pandas DataFrame\n",
    "    df = pd.read_json(file_path, orient='records', lines=True)\n",
    "    \n",
    "    # Use the file name to create the variable name\n",
    "    file_name = os.path.splitext(os.path.basename(file_path))[0]\n",
    "    \n",
    "    # Dynamically assign the DataFrame to a variable with the file name as the name\n",
    "    globals()[file_name] = df"
   ]
  },
  {
   "cell_type": "code",
   "execution_count": 3,
   "id": "ab69b256-f062-41f1-82a1-dfa85e2ae85d",
   "metadata": {},
   "outputs": [
    {
     "name": "stdout",
     "output_type": "stream",
     "text": [
      "Brands Data Types:\n",
      "_id              object\n",
      "barcode           int64\n",
      "category         object\n",
      "categoryCode     object\n",
      "cpg              object\n",
      "name             object\n",
      "topBrand        float64\n",
      "brandCode        object\n",
      "dtype: object \n",
      "\n",
      "Receipts Data Types:\n",
      "_id                         object\n",
      "bonusPointsEarned          float64\n",
      "bonusPointsEarnedReason     object\n",
      "createDate                  object\n",
      "dateScanned                 object\n",
      "finishedDate                object\n",
      "modifyDate                  object\n",
      "pointsAwardedDate           object\n",
      "pointsEarned               float64\n",
      "purchaseDate                object\n",
      "purchasedItemCount         float64\n",
      "rewardsReceiptItemList      object\n",
      "rewardsReceiptStatus        object\n",
      "totalSpent                 float64\n",
      "userId                      object\n",
      "dtype: object \n",
      "\n",
      "Users Data Types:\n",
      "_id             object\n",
      "active            bool\n",
      "createdDate     object\n",
      "lastLogin       object\n",
      "role            object\n",
      "signUpSource    object\n",
      "state           object\n",
      "dtype: object \n",
      "\n"
     ]
    }
   ],
   "source": [
    "# 1. Check Data Types\n",
    "\n",
    "print(\"Brands Data Types:\")\n",
    "print(brands.dtypes, \"\\n\")\n",
    "\n",
    "print(\"Receipts Data Types:\")\n",
    "print(receipts.dtypes, \"\\n\")\n",
    "\n",
    "print(\"Users Data Types:\")\n",
    "print(users.dtypes, \"\\n\")"
   ]
  },
  {
   "cell_type": "code",
   "execution_count": 4,
   "id": "3a8681d1-4116-4e8b-872e-4086b9a70b9d",
   "metadata": {},
   "outputs": [
    {
     "name": "stdout",
     "output_type": "stream",
     "text": [
      "Brands Missing Values:\n",
      "category        155\n",
      "categoryCode    650\n",
      "topBrand        612\n",
      "brandCode       234\n",
      "dtype: int64 \n",
      "\n",
      "Receipts Missing Values:\n",
      "bonusPointsEarned          575\n",
      "bonusPointsEarnedReason    575\n",
      "finishedDate               551\n",
      "pointsAwardedDate          582\n",
      "pointsEarned               510\n",
      "purchaseDate               448\n",
      "purchasedItemCount         484\n",
      "rewardsReceiptItemList     440\n",
      "totalSpent                 435\n",
      "dtype: int64 \n",
      "\n",
      "Users Missing Values:\n",
      "lastLogin       62\n",
      "signUpSource    48\n",
      "state           56\n",
      "dtype: int64 \n",
      "\n"
     ]
    }
   ],
   "source": [
    "# 2. Check for Missing Values\n",
    "\n",
    "print(\"Brands Missing Values:\")\n",
    "missing_brands = brands.isnull().sum()\n",
    "print(missing_brands[missing_brands > 0], \"\\n\")\n",
    "\n",
    "print(\"Receipts Missing Values:\")\n",
    "missing_receipts = receipts.isnull().sum()\n",
    "print(missing_receipts[missing_receipts > 0], \"\\n\")\n",
    "\n",
    "print(\"Users Missing Values:\")\n",
    "missing_users = users.isnull().sum()\n",
    "print(missing_users[missing_users > 0], \"\\n\")"
   ]
  },
  {
   "cell_type": "code",
   "execution_count": 5,
   "id": "e34c9538-244f-4d0b-91f4-22b02b231bb4",
   "metadata": {},
   "outputs": [
    {
     "name": "stdout",
     "output_type": "stream",
     "text": [
      "Duplicated _id in Users Data:\n",
      "    state               createdDate         role  active  \\\n",
      "0      WI  {'$date': 1609687444800}     consumer    True   \n",
      "1      WI  {'$date': 1609687444800}     consumer    True   \n",
      "2      WI  {'$date': 1609687444800}     consumer    True   \n",
      "3      WI  {'$date': 1609687530554}     consumer    True   \n",
      "4      WI  {'$date': 1609687444800}     consumer    True   \n",
      "..    ...                       ...          ...     ...   \n",
      "490   NaN  {'$date': 1418998882381}  fetch-staff    True   \n",
      "491   NaN  {'$date': 1418998882381}  fetch-staff    True   \n",
      "492   NaN  {'$date': 1418998882381}  fetch-staff    True   \n",
      "493   NaN  {'$date': 1418998882381}  fetch-staff    True   \n",
      "494   NaN  {'$date': 1418998882381}  fetch-staff    True   \n",
      "\n",
      "                                      _id  \n",
      "0    {'$oid': '5ff1e194b6a9d73a3a9f1052'}  \n",
      "1    {'$oid': '5ff1e194b6a9d73a3a9f1052'}  \n",
      "2    {'$oid': '5ff1e194b6a9d73a3a9f1052'}  \n",
      "3    {'$oid': '5ff1e1eacfcf6c399c274ae6'}  \n",
      "4    {'$oid': '5ff1e194b6a9d73a3a9f1052'}  \n",
      "..                                    ...  \n",
      "490  {'$oid': '54943462e4b07e684157a532'}  \n",
      "491  {'$oid': '54943462e4b07e684157a532'}  \n",
      "492  {'$oid': '54943462e4b07e684157a532'}  \n",
      "493  {'$oid': '54943462e4b07e684157a532'}  \n",
      "494  {'$oid': '54943462e4b07e684157a532'}  \n",
      "\n",
      "[353 rows x 5 columns]\n",
      "\n",
      "Duplicated _id in Brands Data:\n",
      "Empty DataFrame\n",
      "Columns: [name, barcode, category, topBrand, _id]\n",
      "Index: []\n",
      "\n",
      "Duplicated _id in Receipts Data:\n",
      "Empty DataFrame\n",
      "Columns: [userId, purchaseDate, totalSpent, purchasedItemCount, _id]\n",
      "Index: []\n"
     ]
    }
   ],
   "source": [
    "# 3. Check for Duplicate Values on assumed PK columns\n",
    "\n",
    "print(\"Duplicated _id in Users Data:\")\n",
    "duplicate_users_ids = users[users.duplicated(subset=['_id'], keep=False)]\n",
    "print(duplicate_users_ids[['state', 'createdDate', 'role', 'active', '_id']])  # Show relevant columns\n",
    "\n",
    "print(\"\\nDuplicated _id in Brands Data:\")\n",
    "duplicate_brands_ids = brands[brands.duplicated(subset=['_id'], keep=False)]\n",
    "print(duplicate_brands_ids[['name', 'barcode', 'category', 'topBrand', '_id']])  # Show relevant columns\n",
    "\n",
    "print(\"\\nDuplicated _id in Receipts Data:\")\n",
    "duplicate_receipts_ids = receipts[receipts.duplicated(subset=['_id'], keep=False)]\n",
    "print(duplicate_receipts_ids[['userId', 'purchaseDate', 'totalSpent', 'purchasedItemCount', '_id']])  # Show relevant columns"
   ]
  },
  {
   "cell_type": "code",
   "execution_count": 6,
   "id": "2477bbee-afdc-4a6c-8015-ca77e283ba66",
   "metadata": {},
   "outputs": [
    {
     "name": "stdout",
     "output_type": "stream",
     "text": [
      "Brands Summary Statistics:\n",
      "            barcode    topBrand\n",
      "count  1.167000e+03  555.000000\n",
      "mean   5.111115e+11    0.055856\n",
      "std    2.874497e+05    0.229850\n",
      "min    5.111110e+11    0.000000\n",
      "25%    5.111112e+11    0.000000\n",
      "50%    5.111114e+11    0.000000\n",
      "75%    5.111117e+11    0.000000\n",
      "max    5.111119e+11    1.000000 \n",
      "\n",
      "Receipts Summary Statistics:\n",
      "       bonusPointsEarned  pointsEarned  purchasedItemCount   totalSpent\n",
      "count         544.000000    609.000000           635.00000   684.000000\n",
      "mean          238.893382    585.962890            14.75748    77.796857\n",
      "std           299.091731   1357.166947            61.13424   347.110349\n",
      "min             5.000000      0.000000             0.00000     0.000000\n",
      "25%             5.000000      5.000000             1.00000     1.000000\n",
      "50%            45.000000    150.000000             2.00000    18.200000\n",
      "75%           500.000000    750.000000             5.00000    34.960000\n",
      "max           750.000000  10199.800000           689.00000  4721.950000 \n",
      "\n",
      "Users Summary Statistics:\n",
      "                                         _id active               createdDate  \\\n",
      "count                                    495    495                       495   \n",
      "unique                                   212      2                       212   \n",
      "top     {'$oid': '54943462e4b07e684157a532'}   True  {'$date': 1418998882381}   \n",
      "freq                                      20    494                        20   \n",
      "\n",
      "                       lastLogin      role signUpSource state  \n",
      "count                        433       495          447   439  \n",
      "unique                       172         2            2     8  \n",
      "top     {'$date': 1614963143204}  consumer        Email    WI  \n",
      "freq                          20       413          443   396   \n",
      "\n"
     ]
    }
   ],
   "source": [
    "# 4. Check Summary Statistics for numerical columns\n",
    "\n",
    "print(\"Brands Summary Statistics:\")\n",
    "print(brands.describe(), \"\\n\")\n",
    "\n",
    "print(\"Receipts Summary Statistics:\")\n",
    "print(receipts.describe(), \"\\n\")\n",
    "\n",
    "print(\"Users Summary Statistics:\")\n",
    "print(users.describe(), \"\\n\")"
   ]
  },
  {
   "cell_type": "code",
   "execution_count": 7,
   "id": "dd81dc19-8269-4051-8aab-4ba0d49817d5",
   "metadata": {
    "scrolled": true
   },
   "outputs": [
    {
     "name": "stdout",
     "output_type": "stream",
     "text": [
      "Receipts Data - Checking for Invalid or Future Dates:\n",
      "Invalid future purchase dates: Empty DataFrame\n",
      "Columns: [purchaseDate, _id]\n",
      "Index: []\n",
      "\n",
      "Invalid future create dates: Empty DataFrame\n",
      "Columns: [createDate, _id]\n",
      "Index: []\n",
      "\n",
      "Users Data - Checking for Invalid 'createdDate' Values:\n",
      "Invalid future createdDate: Empty DataFrame\n",
      "Columns: [createdDate, _id]\n",
      "Index: []\n",
      "\n"
     ]
    }
   ],
   "source": [
    "# 5. Check for Invalid or Future Dates:\n",
    "\n",
    "# Convert date columns to datetime (if they are not already)\n",
    "receipts['purchaseDate'] = pd.to_datetime(receipts['purchaseDate'], errors='coerce')\n",
    "receipts['createDate'] = pd.to_datetime(receipts['createDate'], errors='coerce')\n",
    "\n",
    "print(\"Receipts Data - Checking for Invalid or Future Dates:\")\n",
    "\n",
    "invalid_purchase_dates = receipts[receipts['purchaseDate'] > pd.Timestamp.today()]\n",
    "invalid_create_dates = receipts[receipts['createDate'] > pd.Timestamp.today()]\n",
    "\n",
    "print(f\"Invalid future purchase dates: {invalid_purchase_dates[['purchaseDate', '_id']]}\\n\")\n",
    "print(f\"Invalid future create dates: {invalid_create_dates[['createDate', '_id']]}\\n\")\n",
    "\n",
    "users['createdDate'] = pd.to_datetime(users['createdDate'], errors='coerce')\n",
    "print(\"Users Data - Checking for Invalid 'createdDate' Values:\")\n",
    "invalid_user_creation_dates = users[users['createdDate'] > pd.Timestamp.today()]\n",
    "print(f\"Invalid future createdDate: {invalid_user_creation_dates[['createdDate', '_id']]}\\n\")"
   ]
  },
  {
   "cell_type": "code",
   "execution_count": 8,
   "id": "0305259f-ff77-428e-afb3-bc570ec97233",
   "metadata": {
    "scrolled": true
   },
   "outputs": [
    {
     "name": "stdout",
     "output_type": "stream",
     "text": [
      "Users Data - Checking for Missing States:\n",
      "Users with missing state information:                                       _id state\n",
      "344  {'$oid': '60145ff384231211ce796d51'}   NaN\n",
      "350  {'$oid': '60145ff384231211ce796d51'}   NaN\n",
      "375  {'$oid': '60186237c8b50e11d8454d5f'}   NaN\n",
      "376  {'$oid': '60186237c8b50e11d8454d5f'}   NaN\n",
      "378  {'$oid': '60186237c8b50e11d8454d5f'}   NaN\n",
      "381  {'$oid': '60186237c8b50e11d8454d5f'}   NaN\n",
      "382  {'$oid': '60186237c8b50e11d8454d5f'}   NaN\n",
      "422  {'$oid': '5a43c08fe4b014fd6b6a0612'}   NaN\n",
      "423  {'$oid': '5a43c08fe4b014fd6b6a0612'}   NaN\n",
      "424  {'$oid': '5a43c08fe4b014fd6b6a0612'}   NaN\n",
      "425  {'$oid': '5a43c08fe4b014fd6b6a0612'}   NaN\n",
      "426  {'$oid': '5a43c08fe4b014fd6b6a0612'}   NaN\n",
      "428  {'$oid': '5a43c08fe4b014fd6b6a0612'}   NaN\n",
      "430  {'$oid': '5a43c08fe4b014fd6b6a0612'}   NaN\n",
      "431  {'$oid': '5a43c08fe4b014fd6b6a0612'}   NaN\n",
      "432  {'$oid': '5fbc35711d967d1222cbfefc'}   NaN\n",
      "433  {'$oid': '5fbc35711d967d1222cbfefc'}   NaN\n",
      "434  {'$oid': '5fbc35711d967d1222cbfefc'}   NaN\n",
      "455  {'$oid': '5fa41775898c7a11a6bcef3e'}   NaN\n",
      "457  {'$oid': '5fa41775898c7a11a6bcef3e'}   NaN\n",
      "458  {'$oid': '5fa41775898c7a11a6bcef3e'}   NaN\n",
      "459  {'$oid': '5fa41775898c7a11a6bcef3e'}   NaN\n",
      "460  {'$oid': '5fa41775898c7a11a6bcef3e'}   NaN\n",
      "461  {'$oid': '5fa41775898c7a11a6bcef3e'}   NaN\n",
      "463  {'$oid': '5fa41775898c7a11a6bcef3e'}   NaN\n",
      "464  {'$oid': '5fa41775898c7a11a6bcef3e'}   NaN\n",
      "465  {'$oid': '5fa41775898c7a11a6bcef3e'}   NaN\n",
      "466  {'$oid': '5fa41775898c7a11a6bcef3e'}   NaN\n",
      "467  {'$oid': '5fa41775898c7a11a6bcef3e'}   NaN\n",
      "468  {'$oid': '5fa41775898c7a11a6bcef3e'}   NaN\n",
      "469  {'$oid': '5fa41775898c7a11a6bcef3e'}   NaN\n",
      "470  {'$oid': '5fa41775898c7a11a6bcef3e'}   NaN\n",
      "471  {'$oid': '5fa41775898c7a11a6bcef3e'}   NaN\n",
      "472  {'$oid': '5fa41775898c7a11a6bcef3e'}   NaN\n",
      "473  {'$oid': '5fa41775898c7a11a6bcef3e'}   NaN\n",
      "474  {'$oid': '5fa41775898c7a11a6bcef3e'}   NaN\n",
      "475  {'$oid': '54943462e4b07e684157a532'}   NaN\n",
      "476  {'$oid': '54943462e4b07e684157a532'}   NaN\n",
      "477  {'$oid': '54943462e4b07e684157a532'}   NaN\n",
      "478  {'$oid': '54943462e4b07e684157a532'}   NaN\n",
      "479  {'$oid': '54943462e4b07e684157a532'}   NaN\n",
      "480  {'$oid': '54943462e4b07e684157a532'}   NaN\n",
      "481  {'$oid': '54943462e4b07e684157a532'}   NaN\n",
      "482  {'$oid': '54943462e4b07e684157a532'}   NaN\n",
      "483  {'$oid': '54943462e4b07e684157a532'}   NaN\n",
      "484  {'$oid': '54943462e4b07e684157a532'}   NaN\n",
      "485  {'$oid': '54943462e4b07e684157a532'}   NaN\n",
      "486  {'$oid': '54943462e4b07e684157a532'}   NaN\n",
      "487  {'$oid': '54943462e4b07e684157a532'}   NaN\n",
      "488  {'$oid': '54943462e4b07e684157a532'}   NaN\n",
      "489  {'$oid': '54943462e4b07e684157a532'}   NaN\n",
      "490  {'$oid': '54943462e4b07e684157a532'}   NaN\n",
      "491  {'$oid': '54943462e4b07e684157a532'}   NaN\n",
      "492  {'$oid': '54943462e4b07e684157a532'}   NaN\n",
      "493  {'$oid': '54943462e4b07e684157a532'}   NaN\n",
      "494  {'$oid': '54943462e4b07e684157a532'}   NaN\n",
      "\n",
      "Users Data - Checking for Inactive Accounts:\n",
      "Inactive users:                                       _id  active\n",
      "240  {'$oid': '6008622ebe5fc9247bab4eb9'}   False\n",
      "\n"
     ]
    }
   ],
   "source": [
    "# 6. Check for Users with missing 'state' information\n",
    "\n",
    "print(\"Users Data - Checking for Missing States:\")\n",
    "missing_states = users[users['state'].isnull()]\n",
    "print(f\"Users with missing state information: {missing_states[['_id', 'state']]}\\n\")\n",
    "\n",
    "# Check for Inactive Users\n",
    "print(\"Users Data - Checking for Inactive Accounts:\")\n",
    "inactive_users = users[users['active'] == False]\n",
    "print(f\"Inactive users: {inactive_users[['_id', 'active']]}\\n\")"
   ]
  },
  {
   "cell_type": "code",
   "execution_count": 9,
   "id": "777b04b1-3af7-45f1-8ae9-fb603a28bd42",
   "metadata": {},
   "outputs": [
    {
     "name": "stdout",
     "output_type": "stream",
     "text": [
      "Users Data - Checking for Invalid Roles:\n",
      "Users with invalid roles:                                       _id         role\n",
      "395  {'$oid': '59c124bae4b0299e55b0f330'}  fetch-staff\n",
      "396  {'$oid': '59c124bae4b0299e55b0f330'}  fetch-staff\n",
      "397  {'$oid': '59c124bae4b0299e55b0f330'}  fetch-staff\n",
      "398  {'$oid': '59c124bae4b0299e55b0f330'}  fetch-staff\n",
      "399  {'$oid': '59c124bae4b0299e55b0f330'}  fetch-staff\n",
      "..                                    ...          ...\n",
      "490  {'$oid': '54943462e4b07e684157a532'}  fetch-staff\n",
      "491  {'$oid': '54943462e4b07e684157a532'}  fetch-staff\n",
      "492  {'$oid': '54943462e4b07e684157a532'}  fetch-staff\n",
      "493  {'$oid': '54943462e4b07e684157a532'}  fetch-staff\n",
      "494  {'$oid': '54943462e4b07e684157a532'}  fetch-staff\n",
      "\n",
      "[82 rows x 2 columns]\n",
      "\n"
     ]
    }
   ],
   "source": [
    "# 7. Check for Users with invalid roles\n",
    "\n",
    "print(\"Users Data - Checking for Invalid Roles:\")\n",
    "invalid_roles = users[users['role'] != 'consumer']\n",
    "print(f\"Users with invalid roles: {invalid_roles[['_id', 'role']]}\\n\")"
   ]
  },
  {
   "cell_type": "code",
   "execution_count": 10,
   "id": "f11675b3-92c5-4d9f-a3da-9975785a3b42",
   "metadata": {},
   "outputs": [
    {
     "name": "stdout",
     "output_type": "stream",
     "text": [
      "Brands Data - Checking for Missing or Duplicated Barcode:\n",
      "Brands with missing barcode: Empty DataFrame\n",
      "Columns: [barcode, _id]\n",
      "Index: []\n",
      "\n",
      "Brands with duplicate barcodes:            barcode                                   _id\n",
      "9     511111504788  {'$oid': '5c408e8bcd244a1fdb47aee7'}\n",
      "20    511111305125  {'$oid': '5c4699f387ff3577e203ea29'}\n",
      "129   511111504139  {'$oid': '5a7e0604e4b0aedb3b84afd3'}\n",
      "152   511111204923  {'$oid': '5c45f91b87ff3552f950f027'}\n",
      "194   511111605058  {'$oid': '5d6415d5a3a018514994f429'}\n",
      "299   511111504139  {'$oid': '5a8c33f3e4b07f0a2dac8943'}\n",
      "412   511111504788  {'$oid': '5ccb2ece166eb31bbbadccbe'}\n",
      "467   511111004790  {'$oid': '5c409ab4cd244a3539b84162'}\n",
      "536   511111204923  {'$oid': '5d6027f46d5f3b23d1bc7906'}\n",
      "651   511111305125  {'$oid': '5d642d65a3a018514994f42d'}\n",
      "1002  511111704140  {'$oid': '5a8c344ae4b0ccf165fac9e5'}\n",
      "1012  511111605058  {'$oid': '5c4637ba87ff35681e840d57'}\n",
      "1015  511111704140  {'$oid': '5a7e0665e4b0aedb3b84afd4'}\n",
      "1071  511111004790  {'$oid': '5cdacd63166eb33eb7ce0fa8'}\n",
      "\n",
      "Brands with missing names: Empty DataFrame\n",
      "Columns: [name, _id]\n",
      "Index: []\n",
      "\n"
     ]
    }
   ],
   "source": [
    "# 8. Check for Missing Barcodes, Duplicate Barcodes, and Missing Brand Names\n",
    "\n",
    "print(\"Brands Data - Checking for Missing or Duplicated Barcode:\")\n",
    "missing_barcodes = brands[brands['barcode'].isnull()]\n",
    "print(f\"Brands with missing barcode: {missing_barcodes[['barcode', '_id']]}\\n\")\n",
    "\n",
    "duplicate_barcodes = brands[brands.duplicated(subset=['barcode'], keep=False)]\n",
    "print(f\"Brands with duplicate barcodes: {duplicate_barcodes[['barcode', '_id']]}\\n\")\n",
    "\n",
    "missing_brand_names = brands[brands['name'].isnull()]\n",
    "print(f\"Brands with missing names: {missing_brand_names[['name', '_id']]}\\n\")"
   ]
  },
  {
   "cell_type": "code",
   "execution_count": 11,
   "id": "b1c25e46-e8f1-497d-8609-ddac29c11d32",
   "metadata": {},
   "outputs": [
    {
     "name": "stdout",
     "output_type": "stream",
     "text": [
      "Receipts Data - Checking for Inconsistent User IDs:\n",
      "Receipts with invalid userId:                         userId                                   _id\n",
      "0     5ff1e1eacfcf6c399c274ae6  {'$oid': '5ff1e1eb0a720f0523000575'}\n",
      "1     5ff1e194b6a9d73a3a9f1052  {'$oid': '5ff1e1bb0a720f052300056b'}\n",
      "2     5ff1e1f1cfcf6c399c274b0b  {'$oid': '5ff1e1f10a720f052300057a'}\n",
      "3     5ff1e1eacfcf6c399c274ae6  {'$oid': '5ff1e1ee0a7214ada100056f'}\n",
      "4     5ff1e194b6a9d73a3a9f1052  {'$oid': '5ff1e1d20a7214ada1000561'}\n",
      "...                        ...                                   ...\n",
      "1114  5fc961c3b8cfca11a077dd33  {'$oid': '603cc0630a720fde100003e6'}\n",
      "1115  5fc961c3b8cfca11a077dd33  {'$oid': '603d0b710a720fde1000042a'}\n",
      "1116  5fc961c3b8cfca11a077dd33  {'$oid': '603cf5290a720fde10000413'}\n",
      "1117  5fc961c3b8cfca11a077dd33  {'$oid': '603ce7100a7217c72c000405'}\n",
      "1118  5fc961c3b8cfca11a077dd33  {'$oid': '603c4fea0a7217c72c000389'}\n",
      "\n",
      "[1119 rows x 2 columns]\n",
      "\n"
     ]
    }
   ],
   "source": [
    "# 9. Check for UserId inconsistencies (UserId not in Users DataFrame)\n",
    "print(\"Receipts Data - Checking for Inconsistent User IDs:\")\n",
    "invalid_user_ids = receipts[~receipts['userId'].isin(users['_id'])]\n",
    "print(f\"Receipts with invalid userId: {invalid_user_ids[['userId', '_id']]}\\n\")"
   ]
  },
  {
   "cell_type": "code",
   "execution_count": 12,
   "id": "48b861bf-c95f-4b50-8214-ad4979ac8f9a",
   "metadata": {},
   "outputs": [
    {
     "name": "stdout",
     "output_type": "stream",
     "text": [
      "Receipts Data - Checking for Missing or Empty Items in 'rewardsReceiptItemList':\n",
      "Receipts with missing or empty item list:      rewardsReceiptItemList                                   _id\n",
      "71                      NaN  {'$oid': '5ff475820a7214ada10005cf'}\n",
      "93                      NaN  {'$oid': '5ff5ecb90a7214ada10005f9'}\n",
      "149                     NaN  {'$oid': '5ff726860a720f05230005ec'}\n",
      "175                     NaN  {'$oid': '5ff8da570a720f05c5000015'}\n",
      "212                     NaN  {'$oid': '5ffce8570a7214ad4e003e6f'}\n",
      "...                     ...                                   ...\n",
      "1110                    NaN  {'$oid': '603c6adf0a720fde1000039a'}\n",
      "1111                    NaN  {'$oid': '603c9e6e0a720fde100003c7'}\n",
      "1115                    NaN  {'$oid': '603d0b710a720fde1000042a'}\n",
      "1116                    NaN  {'$oid': '603cf5290a720fde10000413'}\n",
      "1118                    NaN  {'$oid': '603c4fea0a7217c72c000389'}\n",
      "\n",
      "[440 rows x 2 columns]\n",
      "\n"
     ]
    }
   ],
   "source": [
    "# 10. Check for missing or empty items in 'rewardsReceiptItemList'\n",
    "\n",
    "print(\"Receipts Data - Checking for Missing or Empty Items in 'rewardsReceiptItemList':\")\n",
    "empty_items = receipts[receipts['rewardsReceiptItemList'].isnull() | (receipts['rewardsReceiptItemList'].str.len() == 0)]\n",
    "print(f\"Receipts with missing or empty item list: {empty_items[['rewardsReceiptItemList', '_id']]}\\n\")"
   ]
  },
  {
   "cell_type": "markdown",
   "id": "569d31c4-f27a-4f0e-ad90-a0d0d91644b4",
   "metadata": {},
   "source": [
    "4. Write a short email or Slack message to the business stakeholder"
   ]
  },
  {
   "cell_type": "markdown",
   "id": "b52f45c9-8048-42d1-96bd-787a52954e7f",
   "metadata": {},
   "source": [
    "Hello [Stakeholder Name],\n",
    "\n",
    "During a recent review of our datasets, I’ve identified several key data quality issues which need to be addressed. There are missing values in critical columns across Brands, Receipts, and Users. For example, several Brands entries are missing values for category, brand code, and top brand status, while Receipts is missing important fields like purchase dates, points awarded, and total spent amounts. Additionally, Users have missing data in key columns such as state and last login, and there are some duplicate user IDs.\n",
    "\n",
    "We also have some data integrity issues, such as invalid or missing userIds in the Receipts dataset and missing or empty item lists for certain receipts. Lastly, there are inconsistencies with user roles in the Users table that need to be addressed.\n",
    "\n",
    "These issues may impact the accuracy of our analysis and reporting. To move forward, we need to understand whether missing values should be imputed, or if they represent known data gaps. For the duplicate Users records, we’ll need to clarify how to handle these duplicates and ensure that user identities remain unique.\n",
    "\n",
    "I recommend we prioritize fixing these issues to maintain data quality, which will help us avoid errors in reporting and insights. Please let me know if you’d like more details on any of these issues or if you have suggestions on how to address them.\n",
    "\n",
    "Best,\n",
    "[Name]"
   ]
  }
 ],
 "metadata": {
  "kernelspec": {
   "display_name": "Python 3 (ipykernel)",
   "language": "python",
   "name": "python3"
  },
  "language_info": {
   "codemirror_mode": {
    "name": "ipython",
    "version": 3
   },
   "file_extension": ".py",
   "mimetype": "text/x-python",
   "name": "python",
   "nbconvert_exporter": "python",
   "pygments_lexer": "ipython3",
   "version": "3.9.6"
  }
 },
 "nbformat": 4,
 "nbformat_minor": 5
}
